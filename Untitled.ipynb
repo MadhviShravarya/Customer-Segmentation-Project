{
 "cells": [
  {
   "cell_type": "code",
   "execution_count": 1,
   "id": "5d8b40fc-3323-4f06-844f-24717706eb4b",
   "metadata": {},
   "outputs": [
    {
     "ename": "ModuleNotFoundError",
     "evalue": "No module named 'mysql'",
     "output_type": "error",
     "traceback": [
      "\u001b[1;31m---------------------------------------------------------------------------\u001b[0m",
      "\u001b[1;31mModuleNotFoundError\u001b[0m                       Traceback (most recent call last)",
      "Cell \u001b[1;32mIn[1], line 3\u001b[0m\n\u001b[0;32m      1\u001b[0m \u001b[38;5;28;01mimport\u001b[39;00m \u001b[38;5;21;01mpandas\u001b[39;00m \u001b[38;5;28;01mas\u001b[39;00m \u001b[38;5;21;01mpd\u001b[39;00m\n\u001b[0;32m      2\u001b[0m \u001b[38;5;28;01mimport\u001b[39;00m \u001b[38;5;21;01mnumpy\u001b[39;00m \u001b[38;5;28;01mas\u001b[39;00m \u001b[38;5;21;01mnp\u001b[39;00m\n\u001b[1;32m----> 3\u001b[0m \u001b[38;5;28;01mimport\u001b[39;00m \u001b[38;5;21;01mmysql\u001b[39;00m\u001b[38;5;21;01m.\u001b[39;00m\u001b[38;5;21;01mconnector\u001b[39;00m\n\u001b[0;32m      4\u001b[0m \u001b[38;5;28;01mimport\u001b[39;00m \u001b[38;5;21;01mmatplotlib\u001b[39;00m\u001b[38;5;21;01m.\u001b[39;00m\u001b[38;5;21;01mpyplot\u001b[39;00m \u001b[38;5;28;01mas\u001b[39;00m \u001b[38;5;21;01mplt\u001b[39;00m\n\u001b[0;32m      5\u001b[0m \u001b[38;5;28;01mimport\u001b[39;00m \u001b[38;5;21;01mseaborn\u001b[39;00m \u001b[38;5;28;01mas\u001b[39;00m \u001b[38;5;21;01msns\u001b[39;00m\n",
      "\u001b[1;31mModuleNotFoundError\u001b[0m: No module named 'mysql'"
     ]
    }
   ],
   "source": [
    "import pandas as pd\n",
    "import numpy as np\n",
    "import mysql.connector\n",
    "import matplotlib.pyplot as plt\n",
    "import seaborn as sns\n",
    "from sklearn.cluster import KMeans\n",
    "from sklearn.preprocessing import StandardScaler\n",
    "\n",
    "# Connect to MySQL\n",
    "conn = mysql.connector.connect(\n",
    "    host=\"localhost\",\n",
    "    user=\"root\",        # Change this if you have a different MySQL username\n",
    "    password=\"password\", # Change this to your MySQL password\n",
    "    database=\"customer_db\"\n",
    ")\n",
    "cursor = conn.cursor()\n",
    "\n",
    "# Load dataset\n",
    "df = pd.read_csv(\"customers.csv\")\n",
    "\n",
    "# Insert data into MySQL\n",
    "cursor.execute(\"TRUNCATE TABLE customers\")  # Clear previous data\n",
    "for _, row in df.iterrows():\n",
    "    sql = \"INSERT INTO customers (id, customer_name, age, income, spending_score) VALUES (%s, %s, %s, %s, %s)\"\n",
    "    values = (row['id'], row['customer_name'], row['age'], row['income'], row['spending_score'])\n",
    "    cursor.execute(sql, values)\n",
    "\n",
    "conn.commit()\n",
    "print(\"✅ Data inserted into MySQL successfully!\")\n",
    "\n",
    "# Fetch Data from MySQL for Clustering\n",
    "query = \"SELECT id, age, income, spending_score FROM customers\"\n",
    "df = pd.read_sql(query, conn)\n",
    "\n",
    "# Data Preprocessing\n",
    "df.dropna(inplace=True)  # Remove missing values\n",
    "scaler = StandardScaler()\n",
    "df_scaled = scaler.fit_transform(df[['age', 'income', 'spending_score']])\n",
    "\n",
    "# Apply K-Means Clustering\n",
    "kmeans = KMeans(n_clusters=3, random_state=42)\n",
    "df['cluster'] = kmeans.fit_predict(df_scaled)\n",
    "\n",
    "# Store Segmented Data in MySQL\n",
    "cursor.execute(\"ALTER TABLE customers ADD COLUMN IF NOT EXISTS cluster INT\")  # Add cluster column if not exists\n",
    "for index, row in df.iterrows():\n",
    "    cursor.execute(\"UPDATE customers SET cluster = %s WHERE id = %s\", (int(row['cluster']), int(row['id'])))\n",
    "\n",
    "conn.commit()\n",
    "print(\"✅ Customer segmentation completed and saved to MySQL!\")\n",
    "\n",
    "# Visualization\n",
    "plt.figure(figsize=(8, 6))\n",
    "sns.scatterplot(x=df['income'], y=df['spending_score'], hue=df['cluster'], palette='viridis')\n",
    "plt.xlabel(\"Annual Income\")\n",
    "plt.ylabel(\"Spending Score\")\n",
    "plt.title(\"Customer Segmentation\")\n",
    "plt.legend(title=\"Cluster\")\n",
    "plt.show()\n",
    "\n",
    "# Close MySQL Connection\n",
    "conn.close()\n"
   ]
  },
  {
   "cell_type": "code",
   "execution_count": null,
   "id": "ab426f93-4c3c-4dbe-a45c-7de201473b90",
   "metadata": {},
   "outputs": [],
   "source": []
  }
 ],
 "metadata": {
  "kernelspec": {
   "display_name": "Python 3 (ipykernel)",
   "language": "python",
   "name": "python3"
  },
  "language_info": {
   "codemirror_mode": {
    "name": "ipython",
    "version": 3
   },
   "file_extension": ".py",
   "mimetype": "text/x-python",
   "name": "python",
   "nbconvert_exporter": "python",
   "pygments_lexer": "ipython3",
   "version": "3.12.6"
  }
 },
 "nbformat": 4,
 "nbformat_minor": 5
}
